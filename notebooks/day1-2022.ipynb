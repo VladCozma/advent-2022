{
 "cells": [
  {
   "cell_type": "code",
   "execution_count": 1,
   "id": "4029fdf4-13b6-415d-b2e9-82a33c774b31",
   "metadata": {},
   "outputs": [],
   "source": [
    "from typing import List, Dict\n",
    "from collections import Counter\n",
    "\n",
    "def read_file(filename):\n",
    "    \"\"\"\n",
    "    Reading an input file\n",
    "  \n",
    "    Parameters:\n",
    "    filename (str): path of file to be loaded\n",
    "  \n",
    "    Returns:\n",
    "    list(str): a list with lines contents\n",
    "    \n",
    "    \"\"\"\n",
    "    with open(filename) as f:\n",
    "        contents = f.readlines()\n",
    "    return contents\n",
    "\n",
    "def count_calories(calories: List) -> Dict:\n",
    "    \"\"\"\n",
    "    Counts the backpack calories for every elf\n",
    "  \n",
    "    Parameters:\n",
    "    calories (List[str]): list of items with calories. Each item is on a ne line. Elf backpack divided by new line\n",
    "  \n",
    "    Returns:\n",
    "    Dict(int, int): a dictionary with elf number and total calories load\n",
    "    \n",
    "    \"\"\"\n",
    "    elf_backpack = 0\n",
    "    elf_load = {}\n",
    "    i = 0\n",
    "    for list_item in calories:\n",
    "        if list_item != \"\\n\":\n",
    "            elf_backpack += int(list_item)\n",
    "        else:\n",
    "            elf_load[i]=elf_backpack\n",
    "            i+=1\n",
    "            elf_backpack = 0\n",
    "    elf_load[i]=elf_backpack\n",
    "    return elf_load"
   ]
  },
  {
   "cell_type": "code",
   "execution_count": 15,
   "id": "e4fec251",
   "metadata": {},
   "outputs": [
    {
     "name": "stdout",
     "output_type": "stream",
     "text": [
      "max load:68442\n",
      "first 3 loads:[(237, 68442), (239, 68218), (26, 68177)]\n",
      "sum of first 3:204837\n",
      "sum of first 3:204837\n"
     ]
    }
   ],
   "source": [
    "# day 1\n",
    "filename = \"../data/day1.txt\"\n",
    "calories = read_file(filename=filename)\n",
    "elf_load = count_calories(calories=calories)\n",
    "\n",
    "# Maximum load\n",
    "print(f\"max load:{max(elf_load.values())}\")\n",
    "\n",
    "k = Counter(elf_load)\n",
    "# First 3\n",
    "print(f\"first 3 loads:{k.most_common(3)}\")\n",
    "# Sum of first 3\n",
    "print(f\"sum of first 3:{[x for x in map(sum, zip(*k.most_common(3)))][1]}\")\n",
    "\n"
   ]
  },
  {
   "cell_type": "code",
   "execution_count": 8,
   "id": "4ab8ad60",
   "metadata": {},
   "outputs": [
    {
     "data": {
      "text/plain": [
       "[502, 204837]"
      ]
     },
     "execution_count": 8,
     "metadata": {},
     "output_type": "execute_result"
    }
   ],
   "source": [
    "[sum(x) for x in zip(*k.most_common(3))]"
   ]
  },
  {
   "cell_type": "code",
   "execution_count": 14,
   "id": "0a87a595",
   "metadata": {},
   "outputs": [
    {
     "data": {
      "text/plain": [
       "[502, 204837]"
      ]
     },
     "execution_count": 14,
     "metadata": {},
     "output_type": "execute_result"
    }
   ],
   "source": [
    "[x for x in map(sum, zip(*k.most_common(3)))]"
   ]
  }
 ],
 "metadata": {
  "kernelspec": {
   "display_name": "Python 3.9.12 ('venv': venv)",
   "language": "python",
   "name": "python3"
  },
  "language_info": {
   "codemirror_mode": {
    "name": "ipython",
    "version": 3
   },
   "file_extension": ".py",
   "mimetype": "text/x-python",
   "name": "python",
   "nbconvert_exporter": "python",
   "pygments_lexer": "ipython3",
   "version": "3.9.12"
  },
  "vscode": {
   "interpreter": {
    "hash": "6f4579def93934387a98bbe1c71aaaa7646b835b38092e640d4a04da202653d8"
   }
  }
 },
 "nbformat": 4,
 "nbformat_minor": 5
}
