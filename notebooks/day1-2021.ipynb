{
 "cells": [
  {
   "cell_type": "code",
   "execution_count": null,
   "id": "4029fdf4-13b6-415d-b2e9-82a33c774b31",
   "metadata": {},
   "outputs": [],
   "source": []
  },
  {
   "cell_type": "markdown",
   "id": "61d6ea55-4f57-407c-b9d5-679c7353d376",
   "metadata": {},
   "source": [
    "Day 1\n",
    "\n",
    "To do this, count the number of times a depth measurement increases from the previous measurement. (There is no measurement before the first measurement.) In the example above, the changes are as follows:"
   ]
  },
  {
   "cell_type": "code",
   "execution_count": 3,
   "id": "2861ecec-d91c-4a06-9fef-a8c8cd7cdbdc",
   "metadata": {},
   "outputs": [],
   "source": [
    "path = \"day01_input.txt\"\n",
    "with open(path) as f:\n",
    "    contents = f.readlines()\n"
   ]
  },
  {
   "cell_type": "code",
   "execution_count": 24,
   "id": "98390890-914f-4212-b9a9-8cf886db2bed",
   "metadata": {},
   "outputs": [],
   "source": [
    "growth = 0\n",
    "sliding_growth = 0\n",
    "window_size = 3\n",
    "\n",
    "for i in range(len(contents)-1):\n",
    "    growth += int(contents[i+1])>int(contents[i])\n",
    "    if i < len(contents) - window_size:\n",
    "        window1 = window2 =0\n",
    "        for j in range(window_size):\n",
    "            window2 += int(contents[i+j+1])\n",
    "            window1 += int(contents[i+j])\n",
    "        sliding_growth += window2>window1"
   ]
  },
  {
   "cell_type": "code",
   "execution_count": 25,
   "id": "55e5f950-bf1d-4525-a4a3-d20bdd8b595e",
   "metadata": {},
   "outputs": [
    {
     "data": {
      "text/plain": [
       "(1713, 1734)"
      ]
     },
     "execution_count": 25,
     "metadata": {},
     "output_type": "execute_result"
    }
   ],
   "source": [
    "growth, sliding_growth"
   ]
  },
  {
   "cell_type": "code",
   "execution_count": 27,
   "id": "32dd1123-6a02-4523-a2d0-e687565f18de",
   "metadata": {},
   "outputs": [],
   "source": [
    "# Day 2"
   ]
  },
  {
   "cell_type": "code",
   "execution_count": 5,
   "id": "7c484aaf-d66d-402d-8fca-659879f38c98",
   "metadata": {},
   "outputs": [],
   "source": [
    "import pandas as pd\n",
    "path = \"day02_input.txt\"\n",
    "course = pd.read_csv(path, sep=\" \", names=[\"direction\",\"step\"])"
   ]
  },
  {
   "cell_type": "code",
   "execution_count": 7,
   "id": "7fa31a14-f599-41b3-aea0-1e19c5ecdd3e",
   "metadata": {},
   "outputs": [
    {
     "data": {
      "text/html": [
       "<div>\n",
       "<style scoped>\n",
       "    .dataframe tbody tr th:only-of-type {\n",
       "        vertical-align: middle;\n",
       "    }\n",
       "\n",
       "    .dataframe tbody tr th {\n",
       "        vertical-align: top;\n",
       "    }\n",
       "\n",
       "    .dataframe thead th {\n",
       "        text-align: right;\n",
       "    }\n",
       "</style>\n",
       "<table border=\"1\" class=\"dataframe\">\n",
       "  <thead>\n",
       "    <tr style=\"text-align: right;\">\n",
       "      <th></th>\n",
       "      <th>direction</th>\n",
       "      <th>step</th>\n",
       "    </tr>\n",
       "  </thead>\n",
       "  <tbody>\n",
       "    <tr>\n",
       "      <th>0</th>\n",
       "      <td>forward</td>\n",
       "      <td>4</td>\n",
       "    </tr>\n",
       "    <tr>\n",
       "      <th>1</th>\n",
       "      <td>forward</td>\n",
       "      <td>6</td>\n",
       "    </tr>\n",
       "    <tr>\n",
       "      <th>2</th>\n",
       "      <td>down</td>\n",
       "      <td>8</td>\n",
       "    </tr>\n",
       "    <tr>\n",
       "      <th>3</th>\n",
       "      <td>forward</td>\n",
       "      <td>3</td>\n",
       "    </tr>\n",
       "    <tr>\n",
       "      <th>4</th>\n",
       "      <td>forward</td>\n",
       "      <td>9</td>\n",
       "    </tr>\n",
       "    <tr>\n",
       "      <th>5</th>\n",
       "      <td>down</td>\n",
       "      <td>7</td>\n",
       "    </tr>\n",
       "    <tr>\n",
       "      <th>6</th>\n",
       "      <td>down</td>\n",
       "      <td>7</td>\n",
       "    </tr>\n",
       "    <tr>\n",
       "      <th>7</th>\n",
       "      <td>down</td>\n",
       "      <td>1</td>\n",
       "    </tr>\n",
       "    <tr>\n",
       "      <th>8</th>\n",
       "      <td>forward</td>\n",
       "      <td>1</td>\n",
       "    </tr>\n",
       "    <tr>\n",
       "      <th>9</th>\n",
       "      <td>forward</td>\n",
       "      <td>5</td>\n",
       "    </tr>\n",
       "  </tbody>\n",
       "</table>\n",
       "</div>"
      ],
      "text/plain": [
       "  direction  step\n",
       "0   forward     4\n",
       "1   forward     6\n",
       "2      down     8\n",
       "3   forward     3\n",
       "4   forward     9\n",
       "5      down     7\n",
       "6      down     7\n",
       "7      down     1\n",
       "8   forward     1\n",
       "9   forward     5"
      ]
     },
     "execution_count": 7,
     "metadata": {},
     "output_type": "execute_result"
    }
   ],
   "source": [
    "course.head(10)"
   ]
  },
  {
   "cell_type": "code",
   "execution_count": 13,
   "id": "cc2fddac-aee1-459e-9d2b-92c0af0dde03",
   "metadata": {},
   "outputs": [
    {
     "data": {
      "text/html": [
       "<div>\n",
       "<style scoped>\n",
       "    .dataframe tbody tr th:only-of-type {\n",
       "        vertical-align: middle;\n",
       "    }\n",
       "\n",
       "    .dataframe tbody tr th {\n",
       "        vertical-align: top;\n",
       "    }\n",
       "\n",
       "    .dataframe thead th {\n",
       "        text-align: right;\n",
       "    }\n",
       "</style>\n",
       "<table border=\"1\" class=\"dataframe\">\n",
       "  <thead>\n",
       "    <tr style=\"text-align: right;\">\n",
       "      <th></th>\n",
       "      <th>step</th>\n",
       "    </tr>\n",
       "    <tr>\n",
       "      <th>direction</th>\n",
       "      <th></th>\n",
       "    </tr>\n",
       "  </thead>\n",
       "  <tbody>\n",
       "    <tr>\n",
       "      <th>down</th>\n",
       "      <td>1897</td>\n",
       "    </tr>\n",
       "    <tr>\n",
       "      <th>forward</th>\n",
       "      <td>1980</td>\n",
       "    </tr>\n",
       "    <tr>\n",
       "      <th>up</th>\n",
       "      <td>1031</td>\n",
       "    </tr>\n",
       "  </tbody>\n",
       "</table>\n",
       "</div>"
      ],
      "text/plain": [
       "           step\n",
       "direction      \n",
       "down       1897\n",
       "forward    1980\n",
       "up         1031"
      ]
     },
     "execution_count": 13,
     "metadata": {},
     "output_type": "execute_result"
    }
   ],
   "source": [
    "course.groupby(by=['direction']).sum()"
   ]
  },
  {
   "cell_type": "code",
   "execution_count": 34,
   "id": "fccdc30f-574d-41cc-a6c0-1520cca20776",
   "metadata": {},
   "outputs": [
    {
     "name": "stdout",
     "output_type": "stream",
     "text": [
      "answer = [1714680]\n"
     ]
    }
   ],
   "source": [
    "distance = course.groupby(by=['direction']).sum().values[1]\n",
    "down = course.groupby(by=['direction']).sum().values[0]\n",
    "up = course.groupby(by=['direction']).sum().values[2]\n",
    "print(f\"answer = {(down-up) * distance}\")"
   ]
  },
  {
   "cell_type": "code",
   "execution_count": 33,
   "id": "3c71f651-307d-4265-8e88-4de08b40d7d8",
   "metadata": {},
   "outputs": [
    {
     "name": "stdout",
     "output_type": "stream",
     "text": [
      "answer = 1963088820\n"
     ]
    }
   ],
   "source": [
    "aim = 0\n",
    "distance = depth = 0\n",
    "for index, row in course.iterrows():\n",
    "    # print(index,row['direction'],row['step'])\n",
    "    # calculate aim\n",
    "    if row['direction'] == 'down':\n",
    "        aim += row['step']\n",
    "    elif row['direction'] == 'up':\n",
    "        aim -= row['step']\n",
    "    if row['direction'] == 'forward':\n",
    "        distance += row['step']\n",
    "        depth += aim*row['step']\n",
    "\n",
    "print(f\"answer = {depth * distance}\")"
   ]
  },
  {
   "cell_type": "code",
   "execution_count": 105,
   "id": "9e6b2176-9876-4381-a3c7-6e4a17776f15",
   "metadata": {},
   "outputs": [],
   "source": [
    "# day 3\n",
    "# import pandas as pd\n",
    "path = \"day03_input.txt\"\n",
    "with open(path) as f:\n",
    "    contents = pd.read_csv(path, names=['bits'], dtype=\"str\")\n",
    "\n",
    "#bitsize\n",
    "size = len(str(contents['bits'][0]))"
   ]
  },
  {
   "cell_type": "code",
   "execution_count": 230,
   "id": "6d984e54-96e7-45be-a8e2-92125052c663",
   "metadata": {},
   "outputs": [],
   "source": [
    "split_array=[]\n",
    "# split_array.append([0,0])\n",
    "for index, row in contents.iterrows():\n",
    "    split_array.append([char for char in str(row['bits'])])"
   ]
  },
  {
   "cell_type": "code",
   "execution_count": 192,
   "id": "4485a9c4-cb18-474c-bad2-895d7b3fd93d",
   "metadata": {},
   "outputs": [],
   "source": [
    "def gamma_rate(split_array: []):\n",
    "    \"\"\" most common bit in the corresponding position\n",
    "    \"\"\"\n",
    "    digits=[]\n",
    "    for j in range(size):\n",
    "        digits.append(0)\n",
    "        for i in range(len(split_array)):\n",
    "            digits[j] += int(split_array[i][j])\n",
    "            \n",
    "    return int(\"\".join([str(round(x/len(split_array))) for x in digits]))\n",
    "\n",
    "def epsilon_rate(split_array: []):\n",
    "    \"\"\" least common bit in the corresponding position\n",
    "    \"\"\"\n",
    "    digits=[]\n",
    "    for j in range(size):\n",
    "        digits.append(0)\n",
    "        for i in range(len(split_array)):\n",
    "            digits[j] += int(split_array[i][j])\n",
    "            \n",
    "    return int(\"\".join([str(round(1-x/len(split_array))) for x in digits]))\n",
    "\n"
   ]
  },
  {
   "cell_type": "code",
   "execution_count": 193,
   "id": "26f8ee1a-8b96-4100-a774-f64156685f99",
   "metadata": {},
   "outputs": [
    {
     "data": {
      "text/plain": [
       "4147524"
      ]
     },
     "execution_count": 193,
     "metadata": {},
     "output_type": "execute_result"
    }
   ],
   "source": [
    "# part 1\n",
    "int(str(gamma_rate(split_array)),2) * int(str(epsilon_rate(split_array)),2)"
   ]
  },
  {
   "cell_type": "code",
   "execution_count": 242,
   "id": "a17909d1-d0c5-4042-aa01-f654041c17c2",
   "metadata": {},
   "outputs": [
    {
     "data": {
      "text/plain": [
       "('0', '1', '0')"
      ]
     },
     "execution_count": 242,
     "metadata": {},
     "output_type": "execute_result"
    }
   ],
   "source": [
    "# part 2\n",
    "significant_bit = [chr for chr in str(gamma_rate(split_array))]\n",
    "insignificant_bit = [chr for chr in str(epsilon_rate(split_array))]\n",
    "split_array[2][1], significant_bit[0], insignificant_bit[1]"
   ]
  },
  {
   "cell_type": "code",
   "execution_count": 248,
   "id": "27179b0f-a518-4d29-9b63-36eb830085e3",
   "metadata": {},
   "outputs": [
    {
     "name": "stdout",
     "output_type": "stream",
     "text": [
      "503\n",
      "249\n",
      "120\n",
      "61\n",
      "26\n",
      "9\n",
      "6\n",
      "4\n",
      "2\n",
      "2\n",
      "0\n"
     ]
    }
   ],
   "source": [
    "new_array1 = []\n",
    "test_array=split_array[:]\n",
    "remaining_size = len(test_array)\n",
    "for j in range(size):\n",
    "    for i in range(remaining_size):\n",
    "        # print(i,j)\n",
    "        # try: \n",
    "        if test_array[i][j] == significant_bit[j]:\n",
    "            new_array1.append(test_array[i])\n",
    "        # except Exception as e: \n",
    "            # print(i,j,e)\n",
    "    remaining_size = len(new_array1)\n",
    "    if remaining_size == 1:\n",
    "        break\n",
    "    test_array = new_array1\n",
    "    new_array1 = []\n",
    "\n",
    "new_array2 = []\n",
    "test_array=split_array[:]\n",
    "remaining_size = len(test_array)\n",
    "for j in range(size):\n",
    "    for i in range(remaining_size):\n",
    "        # print(i,j)\n",
    "        # try: \n",
    "        if test_array[i][j] == insignificant_bit[j+1]:\n",
    "            new_array2.append(test_array[i])\n",
    "        # except Exception as e: \n",
    "            # print(i,j,e)\n",
    "    remaining_size = len(new_array2)\n",
    "    print(remaining_size)\n",
    "    if remaining_size <= 1:\n",
    "        break\n",
    "    test_array = new_array2\n",
    "    new_array2 = []\n",
    "    "
   ]
  },
  {
   "cell_type": "code",
   "execution_count": 249,
   "id": "b85225f2-4d9b-4d2d-9372-c7e3f67801bd",
   "metadata": {},
   "outputs": [
    {
     "data": {
      "text/plain": [
       "([['1', '1', '1', '0', '0', '1', '0', '1', '1', '0', '1', '1']], [])"
      ]
     },
     "execution_count": 249,
     "metadata": {},
     "output_type": "execute_result"
    }
   ],
   "source": [
    "new_array1, new_array2"
   ]
  },
  {
   "cell_type": "code",
   "execution_count": 250,
   "id": "6f1ebdd6-8885-40d2-978d-59d3d6c5775c",
   "metadata": {},
   "outputs": [
    {
     "data": {
      "text/plain": [
       "[['0', '0', '0', '1', '1', '0', '1', '0', '0', '1', '0', '0'],\n",
       " ['0', '0', '0', '1', '1', '0', '1', '0', '0', '1', '0', '1']]"
      ]
     },
     "execution_count": 250,
     "metadata": {},
     "output_type": "execute_result"
    }
   ],
   "source": [
    "test_array"
   ]
  },
  {
   "cell_type": "code",
   "execution_count": 253,
   "id": "a3c6d9dc-ea5a-470a-bb25-e4c5d156f252",
   "metadata": {},
   "outputs": [
    {
     "data": {
      "text/plain": [
       "['1', '0', '0', '0', '1', '1', '0', '1', '0', '0', '1', '1']"
      ]
     },
     "execution_count": 253,
     "metadata": {},
     "output_type": "execute_result"
    }
   ],
   "source": [
    "insignificant_bit"
   ]
  },
  {
   "cell_type": "code",
   "execution_count": 254,
   "id": "8694d0bb-e2ac-4884-b174-daf6d78e4ae4",
   "metadata": {},
   "outputs": [
    {
     "data": {
      "text/plain": [
       "['1', '1', '1', '0', '0', '1', '0', '1', '1', '0', '0']"
      ]
     },
     "execution_count": 254,
     "metadata": {},
     "output_type": "execute_result"
    }
   ],
   "source": [
    "significant_bit"
   ]
  },
  {
   "cell_type": "code",
   "execution_count": null,
   "id": "8c0573f8-914e-4432-9532-050752d6330e",
   "metadata": {},
   "outputs": [],
   "source": []
  }
 ],
 "metadata": {
  "kernelspec": {
   "display_name": "Python 3.9.7 64-bit",
   "language": "python",
   "name": "python3"
  },
  "language_info": {
   "codemirror_mode": {
    "name": "ipython",
    "version": 3
   },
   "file_extension": ".py",
   "mimetype": "text/x-python",
   "name": "python",
   "nbconvert_exporter": "python",
   "pygments_lexer": "ipython3",
   "version": "3.9.7"
  },
  "vscode": {
   "interpreter": {
    "hash": "aee8b7b246df8f9039afb4144a1f6fd8d2ca17a180786b69acc140d282b71a49"
   }
  }
 },
 "nbformat": 4,
 "nbformat_minor": 5
}
